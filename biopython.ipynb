{
  "nbformat": 4,
  "nbformat_minor": 0,
  "metadata": {
    "colab": {
      "name": "biopython.ipynb",
      "provenance": [],
      "authorship_tag": "ABX9TyMqmPjIUTj2MRgfA+9zHZ3T",
      "include_colab_link": true
    },
    "kernelspec": {
      "name": "python3",
      "display_name": "Python 3"
    },
    "language_info": {
      "name": "python"
    }
  },
  "cells": [
    {
      "cell_type": "markdown",
      "metadata": {
        "id": "view-in-github",
        "colab_type": "text"
      },
      "source": [
        "<a href=\"https://colab.research.google.com/github/sunbui/breast-cancer-analytics/blob/main/biopython.ipynb\" target=\"_parent\"><img src=\"https://colab.research.google.com/assets/colab-badge.svg\" alt=\"Open In Colab\"/></a>"
      ]
    },
    {
      "cell_type": "code",
      "execution_count": 1,
      "metadata": {
        "colab": {
          "base_uri": "https://localhost:8080/"
        },
        "id": "6QU9kgDMpBDR",
        "outputId": "d214a00d-b45c-4c8c-e26b-72d3504fe526"
      },
      "outputs": [
        {
          "output_type": "stream",
          "name": "stdout",
          "text": [
            "Looking in indexes: https://pypi.org/simple, https://us-python.pkg.dev/colab-wheels/public/simple/\n",
            "Collecting biopython\n",
            "  Downloading biopython-1.79-cp37-cp37m-manylinux_2_17_x86_64.manylinux2014_x86_64.whl (2.6 MB)\n",
            "\u001b[K     |████████████████████████████████| 2.6 MB 11.3 MB/s \n",
            "\u001b[?25hRequirement already satisfied: numpy in /usr/local/lib/python3.7/dist-packages (from biopython) (1.21.6)\n",
            "Installing collected packages: biopython\n",
            "Successfully installed biopython-1.79\n"
          ]
        }
      ],
      "source": [
        "try:\n",
        "    import google.colab\n",
        "    # Running on Google Colab, so install Biopython first\n",
        "    !pip install biopython\n",
        "except ImportError:\n",
        "    pass"
      ]
    },
    {
      "cell_type": "code",
      "source": [
        "import os\n",
        "import sys\n",
        "from urllib.request import urlretrieve\n",
        "import Bio\n",
        "from Bio import SeqIO, SearchIO, Entrez\n",
        "from Bio.Seq import Seq\n",
        "from Bio.SeqUtils import GC\n",
        "from Bio.Blast import NCBIWWW\n",
        "from Bio.Data import CodonTable\n",
        "\n",
        "print(\"Python version:\", sys.version_info)\n",
        "print(\"Biopython version:\", Bio.__version__)"
      ],
      "metadata": {
        "colab": {
          "base_uri": "https://localhost:8080/"
        },
        "id": "o0jOOqIHr_ys",
        "outputId": "21df8a2f-efb6-4821-86a9-c378e0f4571d"
      },
      "execution_count": 2,
      "outputs": [
        {
          "output_type": "stream",
          "name": "stdout",
          "text": [
            "Python version: sys.version_info(major=3, minor=7, micro=15, releaselevel='final', serial=0)\n",
            "Biopython version: 1.79\n"
          ]
        }
      ]
    },
    {
      "cell_type": "code",
      "source": [
        "import pymongo"
      ],
      "metadata": {
        "id": "Uqf1rj8_4-ih"
      },
      "execution_count": 3,
      "outputs": []
    },
    {
      "cell_type": "markdown",
      "source": [
        "input file "
      ],
      "metadata": {
        "id": "2rS3dhrHsDoX"
      }
    },
    {
      "cell_type": "code",
      "source": [
        "from google.colab import files\n",
        "uploaded = files.upload()"
      ],
      "metadata": {
        "colab": {
          "resources": {
            "http://localhost:8080/nbextensions/google.colab/files.js": {
              "data": "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",
              "ok": true,
              "headers": [
                [
                  "content-type",
                  "application/javascript"
                ]
              ],
              "status": 200,
              "status_text": ""
            }
          },
          "base_uri": "https://localhost:8080/",
          "height": 74
        },
        "id": "HWyWjkRusFrd",
        "outputId": "c9d97208-b22d-4a37-b3e5-32215c5edba7"
      },
      "execution_count": null,
      "outputs": [
        {
          "output_type": "display_data",
          "data": {
            "text/html": [
              "\n",
              "     <input type=\"file\" id=\"files-d66d8d7a-2195-4849-aeae-16fe7fde8447\" name=\"files[]\" multiple disabled\n",
              "        style=\"border:none\" />\n",
              "     <output id=\"result-d66d8d7a-2195-4849-aeae-16fe7fde8447\">\n",
              "      Upload widget is only available when the cell has been executed in the\n",
              "      current browser session. Please rerun this cell to enable.\n",
              "      </output>\n",
              "      <script src=\"/nbextensions/google.colab/files.js\"></script> "
            ],
            "text/plain": [
              "<IPython.core.display.HTML object>"
            ]
          },
          "metadata": {}
        },
        {
          "output_type": "stream",
          "name": "stdout",
          "text": [
            "Saving example.fasta to example.fasta\n"
          ]
        }
      ]
    },
    {
      "cell_type": "markdown",
      "source": [
        "# Chap3: Sequence objects"
      ],
      "metadata": {
        "id": "rtvuE3Jhvj2h"
      }
    },
    {
      "cell_type": "markdown",
      "source": [
        "We are created a simple protein sequence: AGCT \n",
        "\n",
        "Each letter represents Alanine, Glycine, Cysteine and Threonine\n",
        "Each Seq object has two important attributes − data and alphabet \n",
        "\n",
        "Since Sep 2020, BioPython has removed Bio.Alphabet module in 1.79 version. \n",
        "\n"
      ],
      "metadata": {
        "id": "vJ3WbSHls9z1"
      }
    },
    {
      "cell_type": "markdown",
      "source": [
        "3.1 Sequences act like strings"
      ],
      "metadata": {
        "id": "OBFWAh2eRy-Q"
      }
    },
    {
      "cell_type": "code",
      "source": [
        "\n",
        "my_seq = Seq(\"GATCG\")\n",
        "for index, letter in enumerate(my_seq):\n",
        "  print(\"%i %s\" % (index, letter))\n",
        "\n",
        "\n",
        "\n",
        "\n"
      ],
      "metadata": {
        "colab": {
          "base_uri": "https://localhost:8080/"
        },
        "id": "NSMtoiPws1CP",
        "outputId": "fb667734-c478-4696-e63b-7f1ce229c1c4"
      },
      "execution_count": null,
      "outputs": [
        {
          "output_type": "stream",
          "name": "stdout",
          "text": [
            "0 G\n",
            "1 A\n",
            "2 T\n",
            "3 C\n",
            "4 G\n"
          ]
        }
      ]
    },
    {
      "cell_type": "code",
      "source": [
        "print(len(my_seq))\n",
        "print(my_seq[0]) #first letter\n",
        "print(my_seq[2]) #third letter\n",
        "print(my_seq[-1]) #last letter"
      ],
      "metadata": {
        "colab": {
          "base_uri": "https://localhost:8080/"
        },
        "id": "e6MELGhAtrX3",
        "outputId": "7b287c95-ef4b-428a-cf85-e57e9c26876c"
      },
      "execution_count": null,
      "outputs": [
        {
          "output_type": "stream",
          "name": "stdout",
          "text": [
            "5\n",
            "G\n",
            "T\n",
            "G\n"
          ]
        }
      ]
    },
    {
      "cell_type": "markdown",
      "source": [
        "The Seq object has a .count() method, just like a string. Note that this means that like a Python\n",
        "string, this gives a non-overlapping count:"
      ],
      "metadata": {
        "id": "gDQeTCjlSHg3"
      }
    },
    {
      "cell_type": "code",
      "source": [
        "\n",
        "\"AAAA\".count(\"AA\")\n",
        "#same with \n",
        "Seq(\"AAAA\").count(\"AA\")"
      ],
      "metadata": {
        "colab": {
          "base_uri": "https://localhost:8080/"
        },
        "id": "t9eMOBFWs9kV",
        "outputId": "32b22e4a-31db-4820-9deb-30abc986d40b"
      },
      "execution_count": null,
      "outputs": [
        {
          "output_type": "execute_result",
          "data": {
            "text/plain": [
              "2"
            ]
          },
          "metadata": {},
          "execution_count": 35
        }
      ]
    },
    {
      "cell_type": "markdown",
      "source": [
        "For some biological uses, you may actually want an overlapping count. When searching for single letters, this makes no difference"
      ],
      "metadata": {
        "id": "NRh8rKSGSbyG"
      }
    },
    {
      "cell_type": "code",
      "source": [
        "\n",
        "my_seq2 = Seq(\"GATCGATGGGCCTATATAGGATCGAAAATCGC\")\n",
        "len(my_seq2)\n",
        "my_seq2.count(\"G\")\n",
        "100 * float(my_seq2.count(\"G\") + my_seq2.count(\"C\")) / len(my_seq2)"
      ],
      "metadata": {
        "colab": {
          "base_uri": "https://localhost:8080/"
        },
        "id": "9q6XLePpvUiU",
        "outputId": "e30496ed-000e-4940-b13d-feafef3d4c3e"
      },
      "execution_count": null,
      "outputs": [
        {
          "output_type": "execute_result",
          "data": {
            "text/plain": [
              "46.875"
            ]
          },
          "metadata": {},
          "execution_count": 46
        }
      ]
    },
    {
      "cell_type": "markdown",
      "source": [
        "While you could use the above snippet of code to calculate a GC%, note that the Bio.SeqUtils module has several GC functions already built. "
      ],
      "metadata": {
        "id": "pVI_hC7STN75"
      }
    },
    {
      "cell_type": "code",
      "source": [
        "\n",
        "my_seq = Seq(\"GATCGATGGGCCTATATAGGATCGAAAATCGC\")\n",
        "GC(my_seq)\n"
      ],
      "metadata": {
        "colab": {
          "base_uri": "https://localhost:8080/"
        },
        "id": "0A6dtdSQvp6k",
        "outputId": "133c14a8-a910-4083-df9c-6b0e1b70ce21"
      },
      "execution_count": null,
      "outputs": [
        {
          "output_type": "execute_result",
          "data": {
            "text/plain": [
              "46.875"
            ]
          },
          "metadata": {},
          "execution_count": 55
        }
      ]
    },
    {
      "cell_type": "markdown",
      "source": [
        "3.2 Slicing a sequence"
      ],
      "metadata": {
        "id": "ec1kl7mPYevx"
      }
    },
    {
      "cell_type": "code",
      "source": [
        "print(my_seq[::-1]) #  reverse\n",
        "print(my_seq.reverse_complement())\n",
        "print(my_seq.reverse_complement_rna())\n",
        "my_seq[0::3]"
      ],
      "metadata": {
        "colab": {
          "base_uri": "https://localhost:8080/"
        },
        "id": "bktHNVFqYdsw",
        "outputId": "62a897a5-116b-4453-e001-fe32fa5a46b9"
      },
      "execution_count": null,
      "outputs": [
        {
          "output_type": "stream",
          "name": "stdout",
          "text": [
            "CGCTAAAAGCTAGGATATATCCGGGTAGCTAG\n",
            "GCGATTTTCGATCCTATATAGGCCCATCGATC\n",
            "GCGAUUUUCGAUCCUAUAUAGGCCCAUCGAUC\n"
          ]
        },
        {
          "output_type": "execute_result",
          "data": {
            "text/plain": [
              "Seq('GCTGTAGTAAG')"
            ]
          },
          "metadata": {},
          "execution_count": 69
        }
      ]
    },
    {
      "cell_type": "markdown",
      "source": [
        "3.3 Turning Seq objects into strings"
      ],
      "metadata": {
        "id": "Iwe39RDJdom1"
      }
    },
    {
      "cell_type": "code",
      "source": [
        "str(my_seq)"
      ],
      "metadata": {
        "colab": {
          "base_uri": "https://localhost:8080/",
          "height": 36
        },
        "id": "PSD8s1lyU6iO",
        "outputId": "e5ab8b1c-4aab-409d-a7bc-d73f19206315"
      },
      "execution_count": null,
      "outputs": [
        {
          "output_type": "execute_result",
          "data": {
            "application/vnd.google.colaboratory.intrinsic+json": {
              "type": "string"
            },
            "text/plain": [
              "'GATCGATGGGCCTATATAGGATCGAAAATCGC'"
            ]
          },
          "metadata": {},
          "execution_count": 70
        }
      ]
    },
    {
      "cell_type": "code",
      "source": [
        "fasta_format_string = \">Name\\n%s\\n\" % my_seq\n",
        "print(fasta_format_string)"
      ],
      "metadata": {
        "colab": {
          "base_uri": "https://localhost:8080/"
        },
        "id": "pTeSOQjCdvPv",
        "outputId": "8ddb5876-49f5-40db-9f36-bda7d86854e4"
      },
      "execution_count": null,
      "outputs": [
        {
          "output_type": "stream",
          "name": "stdout",
          "text": [
            ">Name\n",
            "GATCGATGGGCCTATATAGGATCGAAAATCGC\n",
            "\n"
          ]
        }
      ]
    },
    {
      "cell_type": "markdown",
      "source": [
        "3.4 Concatenating or adding sequences"
      ],
      "metadata": {
        "id": "11zd9HSTd6ah"
      }
    },
    {
      "cell_type": "code",
      "source": [
        "protein_seq = Seq(\"EVRNAK\")\n",
        "dna_seq = Seq(\"ACGT\")\n",
        "protein_seq + dna_seq #add any two Seq objects\n",
        "list_of_seqs = [Seq(\"ACGT\"), Seq(\"AACC\"), Seq(\"GGTT\")]\n",
        "concatenated = Seq(\"\")\n",
        "#add any three Seq objects\n",
        "for s in list_of_seqs:\n",
        "  concatenated += s\n",
        "concatenated"
      ],
      "metadata": {
        "colab": {
          "base_uri": "https://localhost:8080/"
        },
        "id": "wHBc2-zQd7fP",
        "outputId": "41ff67b9-3ea6-4dac-ffe6-6cf93910c34a"
      },
      "execution_count": null,
      "outputs": [
        {
          "output_type": "execute_result",
          "data": {
            "text/plain": [
              "Seq('ACGTAACCGGTT')"
            ]
          },
          "metadata": {},
          "execution_count": 78
        }
      ]
    },
    {
      "cell_type": "markdown",
      "source": [
        "Like Python strings, Biopython Seq also has a .join method:"
      ],
      "metadata": {
        "id": "pWdLO94Kei54"
      }
    },
    {
      "cell_type": "code",
      "source": [
        "contigs = [Seq(\"ATG\"), Seq(\"ATCCCG\"), Seq(\"TTGCA\")]\n",
        "spacer = Seq(\"N\"*10)\n",
        "spacer.join(contigs)"
      ],
      "metadata": {
        "colab": {
          "base_uri": "https://localhost:8080/"
        },
        "id": "-w0U6Nh4eiQ0",
        "outputId": "17df3288-87ae-4a7f-89d3-78ff430062da"
      },
      "execution_count": null,
      "outputs": [
        {
          "output_type": "execute_result",
          "data": {
            "text/plain": [
              "Seq('ATGNNNNNNNNNNATCCCGNNNNNNNNNNTTGCA')"
            ]
          },
          "metadata": {},
          "execution_count": 80
        }
      ]
    },
    {
      "cell_type": "markdown",
      "source": [
        "3.5 Changing case"
      ],
      "metadata": {
        "id": "hBmYXqb0eunL"
      }
    },
    {
      "cell_type": "code",
      "source": [
        "dna_seq = Seq(\"acgtACGT\")\n",
        "print(dna_seq)\n",
        "print(dna_seq.upper())\n",
        "print(dna_seq.lower())\n",
        "#These are useful for doing case insensitive matching:\n",
        "print(\"GTAC\" in dna_seq)\n",
        "\"GTAC\" in dna_seq.upper()"
      ],
      "metadata": {
        "colab": {
          "base_uri": "https://localhost:8080/"
        },
        "id": "qgB1jqwDesyg",
        "outputId": "1be352b0-89f1-4ac2-c445-46186bd987df"
      },
      "execution_count": null,
      "outputs": [
        {
          "output_type": "stream",
          "name": "stdout",
          "text": [
            "acgtACGT\n",
            "ACGTACGT\n",
            "acgtacgt\n",
            "False\n"
          ]
        },
        {
          "output_type": "execute_result",
          "data": {
            "text/plain": [
              "True"
            ]
          },
          "metadata": {},
          "execution_count": 85
        }
      ]
    },
    {
      "cell_type": "markdown",
      "source": [
        "3.6 Nucleotide sequences and (reverse) complements\n"
      ],
      "metadata": {
        "id": "7ehP26q-fWPN"
      }
    },
    {
      "cell_type": "code",
      "source": [
        "my_seq = Seq(\"GATCGATGGGCCTATATAGGATCGAAAATCGC\")\n",
        "print(my_seq)\n",
        "print(my_seq.complement())\n",
        "print(my_seq.reverse_complement())\n",
        "print(my_seq.reverse_complement_rna())\n",
        "print(my_seq[::-1])\n"
      ],
      "metadata": {
        "colab": {
          "base_uri": "https://localhost:8080/"
        },
        "id": "E84giAcVfiR2",
        "outputId": "e8817731-e807-4a31-f3b0-f00e273ff3e6"
      },
      "execution_count": null,
      "outputs": [
        {
          "output_type": "stream",
          "name": "stdout",
          "text": [
            "GATCGATGGGCCTATATAGGATCGAAAATCGC\n",
            "CTAGCTACCCGGATATATCCTAGCTTTTAGCG\n",
            "GCGATTTTCGATCCTATATAGGCCCATCGATC\n",
            "CGCTAAAAGCTAGGATATATCCGGGTAGCTAG\n",
            "GCGAUUUUCGAUCCUAUAUAGGCCCAUCGAUC\n"
          ]
        }
      ]
    },
    {
      "cell_type": "markdown",
      "source": [
        "If you do accidentally end up trying to do something weird like taking the (reverse)complement of a\n",
        "protein sequence, the results are biologically meaningless,\n",
        "Here the letter “E” is not a valid IUPAC ambiguity code for nucleotides, so was not complemented.\n",
        "However, “V” means “A”, “C” or “G” and has complement “B“, and so on."
      ],
      "metadata": {
        "id": "I3t97cLVgP4Z"
      }
    },
    {
      "cell_type": "code",
      "source": [
        "protein_seq = Seq(\"EVRNAK\")\n",
        "protein_seq.complement()"
      ],
      "metadata": {
        "colab": {
          "base_uri": "https://localhost:8080/"
        },
        "id": "Yy-GpRbLgPiT",
        "outputId": "d503fbdb-2e18-4361-8e5f-8b95ee0fa845"
      },
      "execution_count": null,
      "outputs": [
        {
          "output_type": "execute_result",
          "data": {
            "text/plain": [
              "Seq('EBYNTM')"
            ]
          },
          "metadata": {},
          "execution_count": 91
        }
      ]
    },
    {
      "cell_type": "markdown",
      "source": [
        "3.7 Transcription\n",
        "TCAG => CUGA to give the mRNA\n",
        "we can get the mRNA sequence just by switching\n",
        "T → U."
      ],
      "metadata": {
        "id": "fVt6wpSPgeKO"
      }
    },
    {
      "cell_type": "code",
      "source": [
        "coding_dna = Seq(\"ATGGCCATTGTAATGGGCCGCTGAAAGGGTGCCCGATAG\")\n",
        "template_dna = coding_dna.reverse_complement()\n",
        "messenger_rna = coding_dna.transcribe()\n",
        "print(coding_dna)\n",
        "print(template_dna)\n",
        "print(messenger_rna)\n",
        "#As you can see, all this does is to replace T by U.\n",
        "#If you do want to do a true biological transcription starting with the template strand, \n",
        "#then this becomes a two-step process:\n"
      ],
      "metadata": {
        "colab": {
          "base_uri": "https://localhost:8080/"
        },
        "id": "RNL1RhT-oWxL",
        "outputId": "40a7d9ae-a2c6-4bf3-e2bc-0cc7957172c8"
      },
      "execution_count": null,
      "outputs": [
        {
          "output_type": "stream",
          "name": "stdout",
          "text": [
            "ATGGCCATTGTAATGGGCCGCTGAAAGGGTGCCCGATAG\n",
            "CTATCGGGCACCCTTTCAGCGGCCCATTACAATGGCCAT\n",
            "AUGGCCAUUGUAAUGGGCCGCUGAAAGGGUGCCCGAUAG\n",
            "AUGGCCAUUGUAAUGGGCCGCUGAAAGGGUGCCCGAUAG\n",
            "ATGGCCATTGTAATGGGCCGCTGAAAGGGTGCCCGATAG\n"
          ]
        }
      ]
    },
    {
      "cell_type": "code",
      "source": [
        "#The Seq object also includes a back-transcription method for going from the mRNA to the coding strand\n",
        "# of the DNA. Again, this is a simple U → T substitution:\n",
        "print(template_dna.reverse_complement().transcribe())\n",
        "print(messenger_rna.back_transcribe())\n"
      ],
      "metadata": {
        "colab": {
          "base_uri": "https://localhost:8080/"
        },
        "id": "pZDy0Uaupo8t",
        "outputId": "8466aa05-8917-4801-c912-bd55d290ebee"
      },
      "execution_count": null,
      "outputs": [
        {
          "output_type": "stream",
          "name": "stdout",
          "text": [
            "AUGGCCAUUGUAAUGGGCCGCUGAAAGGGUGCCCGAUAG\n",
            "ATGGCCATTGTAATGGGCCGCTGAAAGGGTGCCCGATAG\n"
          ]
        }
      ]
    },
    {
      "cell_type": "markdown",
      "source": [
        "3.8 Translation\n",
        "\n",
        "Sticking with the same example discussed in the transcription section above, now let’s translate this mRNA\n",
        "into the corresponding protein sequence - again taking advantage of one of the Seq object’s biological methods:"
      ],
      "metadata": {
        "id": "8mpeabakp5FL"
      }
    },
    {
      "cell_type": "code",
      "source": [
        "messenger_rna = Seq(\"AUGGCCAUUGUAAUGGGCCGCUGAAAGGGUGCCCGAUAG\")\n",
        "print(messenger_rna)\n",
        "print(messenger_rna.translate())"
      ],
      "metadata": {
        "colab": {
          "base_uri": "https://localhost:8080/"
        },
        "id": "7gNKrzTfp9S6",
        "outputId": "758d54ae-b6e5-4c60-b5fb-8b05fbc10e40"
      },
      "execution_count": null,
      "outputs": [
        {
          "output_type": "stream",
          "name": "stdout",
          "text": [
            "AUGGCCAUUGUAAUGGGCCGCUGAAAGGGUGCCCGAUAG\n",
            "MAIVMGR*KGAR*\n"
          ]
        }
      ]
    },
    {
      "cell_type": "code",
      "source": [
        "#You can also translate directly from the coding strand DNA sequence: it gives you the same result\n",
        "coding_dna = Seq(\"ATGGCCATTGTAATGGGCCGCTGAAAGGGTGCCCGATAG\")\n",
        "print(coding_dna)\n",
        "print(coding_dna.translate())"
      ],
      "metadata": {
        "colab": {
          "base_uri": "https://localhost:8080/"
        },
        "id": "Eq9Yj2LuuBTS",
        "outputId": "48f5cd10-66ef-4579-d76f-fe08fcbc210b"
      },
      "execution_count": null,
      "outputs": [
        {
          "output_type": "stream",
          "name": "stdout",
          "text": [
            "ATGGCCATTGTAATGGGCCGCTGAAAGGGTGCCCGATAG\n",
            "MAIVMGR*KGAR*\n"
          ]
        }
      ]
    },
    {
      "cell_type": "markdown",
      "source": [
        "NCBI\n",
        "\n",
        "You can also specify the table using the NCBI table number which is shorter, and often included in the\n",
        "feature annotation of GenBank files:"
      ],
      "metadata": {
        "id": "EaQ5Gb4Pusye"
      }
    },
    {
      "cell_type": "code",
      "source": [
        "print(coding_dna.translate(table=\"Vertebrate Mitochondrial\"))\n",
        "print(coding_dna.translate(table=2)) #from NCBI Genebank \n",
        "print(coding_dna.translate(to_stop=True))\n",
        "print(coding_dna.translate(table=2, to_stop=True))"
      ],
      "metadata": {
        "colab": {
          "base_uri": "https://localhost:8080/"
        },
        "id": "OTifsojsukgS",
        "outputId": "a322209e-8e56-434f-e2e2-d8d37bc2338d"
      },
      "execution_count": null,
      "outputs": [
        {
          "output_type": "stream",
          "name": "stdout",
          "text": [
            "MAIVMGRWKGAR*\n",
            "MAIVMGRWKGAR*\n",
            "MAIVMGR\n",
            "MAIVMGRWKGAR\n"
          ]
        }
      ]
    },
    {
      "cell_type": "code",
      "source": [
        "gene = Seq(\"GTGAAAAAGATGCAATCTATCGTACTCGCACTTTCCCTGGTTCTGGTCGCTCCCATGGCA\"\n",
        "\"GCACAGGCTGCGGAAATTACGTTAGTCCCGTCAGTAAAATTACAGATAGGCGATCGTGAT\"\n",
        "\"AATCGTGGCTATTACTGGGATGGAGGTCACTGGCGCGACCACGGCTGGTGGAAACAACAT\"\n",
        "\"TATGAATGGCGAGGCAATCGCTGGCACCTACACGGACCGCCGCCACCGCCGCGCCACCAT\"\n",
        "\"AAGAAAGCTCCTCATGATCATCACGGCGGTCATGGTCCAGGCAAACATCACCGCTAA\")\n",
        "print(gene.translate(table=\"Bacterial\"))\n",
        "print(gene.translate(table=\"Bacterial\", to_stop=True))\n",
        "print(gene.translate(table=\"Bacterial\", cds=True))"
      ],
      "metadata": {
        "colab": {
          "base_uri": "https://localhost:8080/"
        },
        "id": "rs3wpd69uz-U",
        "outputId": "f2fdc142-7a4e-47cd-8b79-7596e21f467a"
      },
      "execution_count": null,
      "outputs": [
        {
          "output_type": "stream",
          "name": "stdout",
          "text": [
            "VKKMQSIVLALSLVLVAPMAAQAAEITLVPSVKLQIGDRDNRGYYWDGGHWRDHGWWKQHYEWRGNRWHLHGPPPPPRHHKKAPHDHHGGHGPGKHHR*\n",
            "VKKMQSIVLALSLVLVAPMAAQAAEITLVPSVKLQIGDRDNRGYYWDGGHWRDHGWWKQHYEWRGNRWHLHGPPPPPRHHKKAPHDHHGGHGPGKHHR\n",
            "MKKMQSIVLALSLVLVAPMAAQAAEITLVPSVKLQIGDRDNRGYYWDGGHWRDHGWWKQHYEWRGNRWHLHGPPPPPRHHKKAPHDHHGGHGPGKHHR\n"
          ]
        }
      ]
    },
    {
      "cell_type": "markdown",
      "source": [
        "3.9 Translation Tables: "
      ],
      "metadata": {
        "id": "Ed2-85dDv0LQ"
      }
    },
    {
      "cell_type": "code",
      "source": [
        "standard_table = CodonTable.unambiguous_dna_by_name[\"Standard\"]\n",
        "mito_table = CodonTable.unambiguous_dna_by_name[\"Vertebrate Mitochondrial\"]\n",
        "print(standard_table)\n",
        "print(mito_table)\n",
        "print(mito_table.stop_codons)\n",
        "print(mito_table.forward_table[\"ACG\"])"
      ],
      "metadata": {
        "id": "YC2m6ktDvzcp",
        "colab": {
          "base_uri": "https://localhost:8080/"
        },
        "outputId": "03a59915-101f-431d-b98e-baff047b7390"
      },
      "execution_count": null,
      "outputs": [
        {
          "output_type": "stream",
          "name": "stdout",
          "text": [
            "Table 1 Standard, SGC0\n",
            "\n",
            "  |  T      |  C      |  A      |  G      |\n",
            "--+---------+---------+---------+---------+--\n",
            "T | TTT F   | TCT S   | TAT Y   | TGT C   | T\n",
            "T | TTC F   | TCC S   | TAC Y   | TGC C   | C\n",
            "T | TTA L   | TCA S   | TAA Stop| TGA Stop| A\n",
            "T | TTG L(s)| TCG S   | TAG Stop| TGG W   | G\n",
            "--+---------+---------+---------+---------+--\n",
            "C | CTT L   | CCT P   | CAT H   | CGT R   | T\n",
            "C | CTC L   | CCC P   | CAC H   | CGC R   | C\n",
            "C | CTA L   | CCA P   | CAA Q   | CGA R   | A\n",
            "C | CTG L(s)| CCG P   | CAG Q   | CGG R   | G\n",
            "--+---------+---------+---------+---------+--\n",
            "A | ATT I   | ACT T   | AAT N   | AGT S   | T\n",
            "A | ATC I   | ACC T   | AAC N   | AGC S   | C\n",
            "A | ATA I   | ACA T   | AAA K   | AGA R   | A\n",
            "A | ATG M(s)| ACG T   | AAG K   | AGG R   | G\n",
            "--+---------+---------+---------+---------+--\n",
            "G | GTT V   | GCT A   | GAT D   | GGT G   | T\n",
            "G | GTC V   | GCC A   | GAC D   | GGC G   | C\n",
            "G | GTA V   | GCA A   | GAA E   | GGA G   | A\n",
            "G | GTG V   | GCG A   | GAG E   | GGG G   | G\n",
            "--+---------+---------+---------+---------+--\n",
            "Table 2 Vertebrate Mitochondrial, SGC1\n",
            "\n",
            "  |  T      |  C      |  A      |  G      |\n",
            "--+---------+---------+---------+---------+--\n",
            "T | TTT F   | TCT S   | TAT Y   | TGT C   | T\n",
            "T | TTC F   | TCC S   | TAC Y   | TGC C   | C\n",
            "T | TTA L   | TCA S   | TAA Stop| TGA W   | A\n",
            "T | TTG L   | TCG S   | TAG Stop| TGG W   | G\n",
            "--+---------+---------+---------+---------+--\n",
            "C | CTT L   | CCT P   | CAT H   | CGT R   | T\n",
            "C | CTC L   | CCC P   | CAC H   | CGC R   | C\n",
            "C | CTA L   | CCA P   | CAA Q   | CGA R   | A\n",
            "C | CTG L   | CCG P   | CAG Q   | CGG R   | G\n",
            "--+---------+---------+---------+---------+--\n",
            "A | ATT I(s)| ACT T   | AAT N   | AGT S   | T\n",
            "A | ATC I(s)| ACC T   | AAC N   | AGC S   | C\n",
            "A | ATA M(s)| ACA T   | AAA K   | AGA Stop| A\n",
            "A | ATG M(s)| ACG T   | AAG K   | AGG Stop| G\n",
            "--+---------+---------+---------+---------+--\n",
            "G | GTT V   | GCT A   | GAT D   | GGT G   | T\n",
            "G | GTC V   | GCC A   | GAC D   | GGC G   | C\n",
            "G | GTA V   | GCA A   | GAA E   | GGA G   | A\n",
            "G | GTG V(s)| GCG A   | GAG E   | GGG G   | G\n",
            "--+---------+---------+---------+---------+--\n",
            "['TAA', 'TAG', 'AGA', 'AGG']\n",
            "T\n"
          ]
        }
      ]
    },
    {
      "cell_type": "code",
      "source": [
        "table = CodonTable.unambiguous_dna_by_name[\"Standard\"] \n",
        "print(table)"
      ],
      "metadata": {
        "colab": {
          "base_uri": "https://localhost:8080/"
        },
        "id": "BVopcm2StsNl",
        "outputId": "3dd661fe-9ef4-44eb-d6ea-271100f2c4f6"
      },
      "execution_count": null,
      "outputs": [
        {
          "output_type": "stream",
          "name": "stdout",
          "text": [
            "Table 1 Standard, SGC0\n",
            "\n",
            "  |  T      |  C      |  A      |  G      |\n",
            "--+---------+---------+---------+---------+--\n",
            "T | TTT F   | TCT S   | TAT Y   | TGT C   | T\n",
            "T | TTC F   | TCC S   | TAC Y   | TGC C   | C\n",
            "T | TTA L   | TCA S   | TAA Stop| TGA Stop| A\n",
            "T | TTG L(s)| TCG S   | TAG Stop| TGG W   | G\n",
            "--+---------+---------+---------+---------+--\n",
            "C | CTT L   | CCT P   | CAT H   | CGT R   | T\n",
            "C | CTC L   | CCC P   | CAC H   | CGC R   | C\n",
            "C | CTA L   | CCA P   | CAA Q   | CGA R   | A\n",
            "C | CTG L(s)| CCG P   | CAG Q   | CGG R   | G\n",
            "--+---------+---------+---------+---------+--\n",
            "A | ATT I   | ACT T   | AAT N   | AGT S   | T\n",
            "A | ATC I   | ACC T   | AAC N   | AGC S   | C\n",
            "A | ATA I   | ACA T   | AAA K   | AGA R   | A\n",
            "A | ATG M(s)| ACG T   | AAG K   | AGG R   | G\n",
            "--+---------+---------+---------+---------+--\n",
            "G | GTT V   | GCT A   | GAT D   | GGT G   | T\n",
            "G | GTC V   | GCC A   | GAC D   | GGC G   | C\n",
            "G | GTA V   | GCA A   | GAA E   | GGA G   | A\n",
            "G | GTG V   | GCG A   | GAG E   | GGG G   | G\n",
            "--+---------+---------+---------+---------+--\n"
          ]
        }
      ]
    },
    {
      "cell_type": "markdown",
      "source": [
        "3.10 Comparing Seq objects"
      ],
      "metadata": {
        "id": "-_bBIUdVvFci"
      }
    },
    {
      "cell_type": "code",
      "source": [
        "seq1 = Seq(\"ACGT\")\n",
        "'ACGT' == seq1"
      ],
      "metadata": {
        "colab": {
          "base_uri": "https://localhost:8080/"
        },
        "id": "D3S_NFxyvERr",
        "outputId": "77255f43-9c44-4ebb-f64d-ee2c8de66a28"
      },
      "execution_count": null,
      "outputs": [
        {
          "output_type": "execute_result",
          "data": {
            "text/plain": [
              "True"
            ]
          },
          "metadata": {},
          "execution_count": 11
        }
      ]
    },
    {
      "cell_type": "markdown",
      "source": [
        "3.11 Sequences with unknown sequence contents"
      ],
      "metadata": {
        "id": "yMi187XhvdBY"
      }
    },
    {
      "cell_type": "code",
      "source": [
        "unknown_seq = Seq(None, 10)\n",
        "print(len(unknown_seq))"
      ],
      "metadata": {
        "colab": {
          "base_uri": "https://localhost:8080/"
        },
        "id": "z7MCDtD2vX_c",
        "outputId": "01fd5664-e82e-43a5-b6c1-9d1d7cccec61"
      },
      "execution_count": null,
      "outputs": [
        {
          "output_type": "stream",
          "name": "stdout",
          "text": [
            "10\n"
          ]
        }
      ]
    },
    {
      "cell_type": "markdown",
      "source": [
        "3.12 MutableSeq objects "
      ],
      "metadata": {
        "id": "qDds-C5dwkvV"
      }
    },
    {
      "cell_type": "code",
      "source": [
        "#MutableSeq objects = unchangable \n",
        "my_seq = Seq(\"GCCATTGTAATGGGCCGCTGAAAGGGTGCCCGA\") \n",
        "# you can't print my_seq[5] = 'c' because Seq object act like a string\n",
        "# however, you can convert it into a mutable sequence (a MutableSeq object)\n",
        "from Bio.Seq import MutableSeq\n",
        "mutable_seq =  MutableSeq(my_seq)\n",
        "mutable_seq[5] ='C'\n",
        "mutable_seq2 = MutableSeq(\"GCCATTGTAATGGGCCGCTGAAAGGGTGCCCGA\")\n",
        "print(mutable_seq)\n",
        "# unlike Seq object, the mutableSeq objects methods beloew act like onsite (khong thay doi)\n",
        "mutable_seq2.reverse()\n",
        "mutable_seq2.reverse_complement()\n"
      ],
      "metadata": {
        "colab": {
          "base_uri": "https://localhost:8080/"
        },
        "id": "mDg7_fh8wkQg",
        "outputId": "9e4a96ac-9ec4-4bd1-d013-10c92da66c65"
      },
      "execution_count": null,
      "outputs": [
        {
          "output_type": "stream",
          "name": "stdout",
          "text": [
            "GCCATCGTAATGGGCCGCTGAAAGGGTGCCCGA\n"
          ]
        }
      ]
    },
    {
      "cell_type": "markdown",
      "source": [
        "Do note that unlike the Seq object, the MutableSeq object’s methods like reverse_complement() and\n",
        "reverse() act in-situ!\n",
        "An important technical difference between mutable and immutable objects in Python means that you\n",
        "can’t use a MutableSeq object as a dictionary key, but you can use a Python string or a Seq object in this\n",
        "way.\n",
        "Once you have finished editing your a MutableSeq object, it’s easy to get back to a read-only Seq object\n",
        "should you need to:"
      ],
      "metadata": {
        "id": "6ld3zuZy6vpQ"
      }
    },
    {
      "cell_type": "code",
      "source": [
        "new_seq = Seq(mutable_seq)\n",
        "new_seq"
      ],
      "metadata": {
        "colab": {
          "base_uri": "https://localhost:8080/"
        },
        "id": "o5FpuoH36w6s",
        "outputId": "ce7bcadf-c548-45be-e689-2b84b234db02"
      },
      "execution_count": null,
      "outputs": [
        {
          "output_type": "execute_result",
          "data": {
            "text/plain": [
              "Seq('GCCATCGTAATGGGCCGCTGAAAGGGTGCCCGA')"
            ]
          },
          "metadata": {},
          "execution_count": 39
        }
      ]
    },
    {
      "cell_type": "markdown",
      "source": [
        "3.13 UnknownSeq objects\n",
        "The UnknownSeq object is a subclass of the basic Seq object and its purpose is to represent a sequence where we know the length, but not the actual letters making it up. You could of course use a normal Seq object in this situation, but it wastes rather a lot of memory to hold a string of a million “N” characters when you could just store a single letter “N” and the desired length as an integer."
      ],
      "metadata": {
        "id": "BvXDamM_7wTq"
      }
    },
    {
      "cell_type": "code",
      "source": [
        "from Bio.Seq import UnknownSeq\n",
        "unk = UnknownSeq(20)\n",
        "# print(unk)\n",
        "unk_dna = UnknownSeq(20, character=\"N\")\n",
        "print(unk_dna)\n",
        "unk_dna.complement()\n"
      ],
      "metadata": {
        "colab": {
          "base_uri": "https://localhost:8080/"
        },
        "id": "r521auco7JIJ",
        "outputId": "adc1aaf3-ef85-4c23-d9da-633990595bb4"
      },
      "execution_count": null,
      "outputs": [
        {
          "output_type": "stream",
          "name": "stdout",
          "text": [
            "NNNNNNNNNNNNNNNNNNNN\n"
          ]
        },
        {
          "output_type": "stream",
          "name": "stderr",
          "text": [
            "/usr/local/lib/python3.7/dist-packages/Bio/Seq.py:2010: BiopythonDeprecationWarning: UnknownSeq(length) is deprecated; please use Seq(None, length) instead.\n",
            "  BiopythonDeprecationWarning,\n"
          ]
        },
        {
          "output_type": "execute_result",
          "data": {
            "text/plain": [
              "UnknownSeq(20, character='N')"
            ]
          },
          "metadata": {},
          "execution_count": 48
        }
      ]
    },
    {
      "cell_type": "code",
      "source": [
        "unk_dna.reverse_complement()"
      ],
      "metadata": {
        "colab": {
          "base_uri": "https://localhost:8080/"
        },
        "id": "NXBf-ZxG-vAJ",
        "outputId": "9c63d6fa-de00-4b1a-e6f7-8153b6ca70db"
      },
      "execution_count": null,
      "outputs": [
        {
          "output_type": "stream",
          "name": "stderr",
          "text": [
            "/usr/local/lib/python3.7/dist-packages/Bio/Seq.py:2010: BiopythonDeprecationWarning: UnknownSeq(length) is deprecated; please use Seq(None, length) instead.\n",
            "  BiopythonDeprecationWarning,\n"
          ]
        },
        {
          "output_type": "execute_result",
          "data": {
            "text/plain": [
              "UnknownSeq(20, character='N')"
            ]
          },
          "metadata": {},
          "execution_count": 49
        }
      ]
    },
    {
      "cell_type": "code",
      "source": [
        "unk_dna.transcribe()"
      ],
      "metadata": {
        "colab": {
          "base_uri": "https://localhost:8080/"
        },
        "id": "ydJorR9v_b2x",
        "outputId": "27f06138-907e-454b-8ebf-b19a29c7985e"
      },
      "execution_count": null,
      "outputs": [
        {
          "output_type": "stream",
          "name": "stderr",
          "text": [
            "/usr/local/lib/python3.7/dist-packages/Bio/Seq.py:2010: BiopythonDeprecationWarning: UnknownSeq(length) is deprecated; please use Seq(None, length) instead.\n",
            "  BiopythonDeprecationWarning,\n"
          ]
        },
        {
          "output_type": "execute_result",
          "data": {
            "text/plain": [
              "UnknownSeq(20, character='N')"
            ]
          },
          "metadata": {},
          "execution_count": 50
        }
      ]
    },
    {
      "cell_type": "code",
      "source": [
        "unk_protein = unk_dna.translate()\n",
        "unk_protein\n"
      ],
      "metadata": {
        "colab": {
          "base_uri": "https://localhost:8080/"
        },
        "id": "F9r18SEu_dPm",
        "outputId": "1ffb924c-bae0-4b40-de77-4a8136055718"
      },
      "execution_count": null,
      "outputs": [
        {
          "output_type": "stream",
          "name": "stderr",
          "text": [
            "/usr/local/lib/python3.7/dist-packages/Bio/Seq.py:2010: BiopythonDeprecationWarning: UnknownSeq(length) is deprecated; please use Seq(None, length) instead.\n",
            "  BiopythonDeprecationWarning,\n"
          ]
        },
        {
          "output_type": "execute_result",
          "data": {
            "text/plain": [
              "UnknownSeq(6, character='X')"
            ]
          },
          "metadata": {},
          "execution_count": 52
        }
      ]
    },
    {
      "cell_type": "code",
      "source": [
        "len(unk_protein)"
      ],
      "metadata": {
        "colab": {
          "base_uri": "https://localhost:8080/"
        },
        "id": "37WsoQbx_mG7",
        "outputId": "c65ad6a4-b1b5-4d89-821c-bb927957d5f2"
      },
      "execution_count": null,
      "outputs": [
        {
          "output_type": "execute_result",
          "data": {
            "text/plain": [
              "6"
            ]
          },
          "metadata": {},
          "execution_count": 53
        }
      ]
    },
    {
      "cell_type": "markdown",
      "source": [
        "3.14 Working with strings directly"
      ],
      "metadata": {
        "id": "WKlO0eBzPUAD"
      }
    },
    {
      "cell_type": "code",
      "source": [
        "from Bio.Seq import reverse_complement, transcribe, back_transcribe, translate\n",
        "my_string = \"GCTGTTATGGGTCGTTGGAAGGGTGGTCGTGCTGCTGGTTAG\"\n",
        "print(reverse_complement(my_string))\n",
        "print(transcribe(my_string))\n",
        "print(back_transcribe(my_string))\n",
        "print(translate(my_string))"
      ],
      "metadata": {
        "colab": {
          "base_uri": "https://localhost:8080/"
        },
        "id": "w-m5KqgUPcPt",
        "outputId": "3cb099e5-81f5-4dd4-981e-9ba6c5f17149"
      },
      "execution_count": null,
      "outputs": [
        {
          "output_type": "stream",
          "name": "stdout",
          "text": [
            "CTAACCAGCAGCACGACCACCCTTCCAACGACCCATAACAGC\n",
            "GCUGUUAUGGGUCGUUGGAAGGGUGGUCGUGCUGCUGGUUAG\n",
            "GCTGTTATGGGTCGTTGGAAGGGTGGTCGTGCTGCTGGTTAG\n",
            "AVMGRWKGGRAAG*\n"
          ]
        }
      ]
    },
    {
      "cell_type": "markdown",
      "source": [
        "Chapter 4- Sequence annotation objects => for GenBank or EMBL files not for FASTA files \n"
      ],
      "metadata": {
        "id": "dUD_UpMVQBep"
      }
    },
    {
      "cell_type": "markdown",
      "source": [
        "# 4.1 The SeqRecord object\n",
        "The SeqRecord class itself is quite simple, and offers the following information as attributes:\n",
        "\n",
        "**.seq** – The sequence itself, typically a Seq object.\n",
        "\n",
        "**.id** – The primary ID used to identify the sequence – a string. In most cases this is something like an\n",
        "accession number.\n",
        "\n",
        "**.name** – A “common” name/id for the sequence – a string. In some cases this will be the same as the\n",
        "accession number, but it could also be a clone name. I think of this as being analogous to the LOCUS\n",
        "id in a GenBank record.\n",
        "\n",
        "**.description** – A human readable description or expressive name for the sequence – a string.\n",
        "\n",
        "**.letter_annotations** – Holds per-letter-annotations using a (restricted) dictionary of additional information\n",
        "about the letters in the sequence. The keys are the name of the information, and the information is\n",
        "contained in the value as a Python sequence (i.e. a list, tuple or string) with the same length as\n",
        "the sequence itself. This is often used for quality scores (e.g. Section 20.1.6) or secondary structure\n",
        "information (e.g. from Stockholm/PFAM alignment files).\n",
        "\n",
        "**.annotations** – A dictionary of additional information about the sequence. The keys are the name of\n",
        "the information, and the information is contained in the value. This allows the addition of more\n",
        "“unstructured” information to the sequence.\n",
        "\n",
        "**.features** – A list of SeqFeature objects with more structured information about the features on a sequence\n",
        "(e.g. position of genes on a genome, or domains on a protein sequence). The structure of sequence\n",
        "features is described below in Section 4.3.\n",
        "\n",
        "**.dbxrefs** - A list of database cross-references as strings.\n"
      ],
      "metadata": {
        "id": "x35HtHX7QFlk"
      }
    },
    {
      "cell_type": "code",
      "source": [
        "from Bio.SeqRecord import SeqRecord\n"
      ],
      "metadata": {
        "id": "OBv8dYVSP_ZD"
      },
      "execution_count": null,
      "outputs": []
    },
    {
      "cell_type": "markdown",
      "source": [
        "4.2 Creating a SeqRecord\n",
        "4.2.1 SeqRecord objects from scratch "
      ],
      "metadata": {
        "id": "OIsSqWBwSU4u"
      }
    },
    {
      "cell_type": "markdown",
      "source": [],
      "metadata": {
        "id": "f5hm_Rk8P-9o"
      }
    }
  ]
}